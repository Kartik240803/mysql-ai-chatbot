{
 "cells": [
  {
   "cell_type": "code",
   "execution_count": 1,
   "id": "c47e6465",
   "metadata": {},
   "outputs": [
    {
     "name": "stderr",
     "output_type": "stream",
     "text": [
      "/root/Kartik/aienv/lib/python3.10/site-packages/tqdm/auto.py:21: TqdmWarning: IProgress not found. Please update jupyter and ipywidgets. See https://ipywidgets.readthedocs.io/en/stable/user_install.html\n",
      "  from .autonotebook import tqdm as notebook_tqdm\n"
     ]
    }
   ],
   "source": [
    "from transformers import DistilBertTokenizer, DistilBertModel\n",
    "import torch\n",
    "from sklearn.metrics.pairwise import cosine_similarity"
   ]
  },
  {
   "cell_type": "code",
   "execution_count": 2,
   "id": "be8b0005",
   "metadata": {},
   "outputs": [
    {
     "name": "stderr",
     "output_type": "stream",
     "text": [
      "Xet Storage is enabled for this repo, but the 'hf_xet' package is not installed. Falling back to regular HTTP download. For better performance, install the package with: `pip install huggingface_hub[hf_xet]` or `pip install hf_xet`\n"
     ]
    }
   ],
   "source": [
    "# Load DistilBERT model and tokenizer\n",
    "tokenizer = DistilBertTokenizer.from_pretrained('distilbert-base-uncased')\n",
    "model = DistilBertModel.from_pretrained('distilbert-base-uncased')"
   ]
  },
  {
   "cell_type": "code",
   "execution_count": 3,
   "id": "b8bbfe2f",
   "metadata": {},
   "outputs": [],
   "source": [
    "# Your SQL query list mapped to descriptions\n",
    "sql_queries = {\n",
    "    \"Get event count per host and event name\": \"\"\"\n",
    "        SELECT h.host, t.description AS event_name, COUNT(DISTINCT e.eventid) AS event_count\n",
    "        FROM events e\n",
    "        JOIN triggers t ON e.objectid = t.triggerid\n",
    "        JOIN functions f ON t.triggerid = f.triggerid\n",
    "        JOIN items i ON f.itemid = i.itemid\n",
    "        JOIN hosts h ON i.hostid = h.hostid\n",
    "        WHERE e.source = 0 AND e.value = 1\n",
    "        AND e.clock >= %s AND e.clock <= %s\n",
    "        GROUP BY h.host, t.description;\n",
    "    \"\"\",\n",
    "\n",
    "    \"Get agent availability item for a host\": \"\"\"\n",
    "        SELECT itemid, name, value_type\n",
    "        FROM items\n",
    "        WHERE hostid = %s\n",
    "        AND name IN (\"agent availability\", \"Meraki: status\", \"ICMP ping\", \"ICMP Check\")\n",
    "        LIMIT 1;\n",
    "    \"\"\",\n",
    "\n",
    "    \"Get interface bandwidth usage\": \"\"\"\n",
    "        SELECT ROUND(AVG(hu.value)/1000,2) AS average_value, ROUND(SUM(hu.value)/1000,2) AS Total_value\n",
    "        FROM history_uint hu\n",
    "        JOIN items i ON hu.itemid = i.itemid\n",
    "        WHERE hu.clock >= %s AND hu.clock <= %s;\n",
    "    \"\"\"\n",
    "}"
   ]
  },
  {
   "cell_type": "code",
   "execution_count": 4,
   "id": "37242d49",
   "metadata": {},
   "outputs": [],
   "source": [
    "# Prepare embeddings for the descriptions\n",
    "def get_embedding(text):\n",
    "    inputs = tokenizer(text, return_tensors=\"pt\", truncation=True, padding=True)\n",
    "    with torch.no_grad():\n",
    "        outputs = model(**inputs)\n",
    "    return outputs.last_hidden_state[:, 0, :].numpy()"
   ]
  },
  {
   "cell_type": "code",
   "execution_count": 5,
   "id": "40ecac64",
   "metadata": {},
   "outputs": [],
   "source": [
    "# Embed all descriptions\n",
    "query_descriptions = list(sql_queries.keys())\n",
    "query_embeddings = [get_embedding(desc) for desc in query_descriptions]"
   ]
  },
  {
   "cell_type": "code",
   "execution_count": 6,
   "id": "b1c23341",
   "metadata": {},
   "outputs": [],
   "source": [
    "# Chatbot function\n",
    "def chatbot(user_query):\n",
    "    user_embedding = get_embedding(user_query)\n",
    "    similarities = [cosine_similarity(user_embedding, qe)[0][0] for qe in query_embeddings]\n",
    "    best_match_idx = similarities.index(max(similarities))\n",
    "    best_query_desc = query_descriptions[best_match_idx]\n",
    "    best_query_sql = sql_queries[best_query_desc]\n",
    "    print(f\"\\nMatched Query Description:\\n{best_query_desc}\")\n",
    "    print(f\"\\nSQL Query:\\n{best_query_sql}\")"
   ]
  },
  {
   "cell_type": "code",
   "execution_count": 7,
   "id": "02476c04",
   "metadata": {},
   "outputs": [],
   "source": [
    "user_input = \"What is the average bandwidth usage for the last 7 days?\""
   ]
  },
  {
   "cell_type": "code",
   "execution_count": 8,
   "id": "ed5ce0f4",
   "metadata": {},
   "outputs": [
    {
     "name": "stdout",
     "output_type": "stream",
     "text": [
      "\n",
      "Matched Query Description:\n",
      "Get interface bandwidth usage\n",
      "\n",
      "SQL Query:\n",
      "\n",
      "        SELECT ROUND(AVG(hu.value)/1000,2) AS average_value, ROUND(SUM(hu.value)/1000,2) AS Total_value\n",
      "        FROM history_uint hu\n",
      "        JOIN items i ON hu.itemid = i.itemid\n",
      "        WHERE hu.clock >= %s AND hu.clock <= %s;\n",
      "    \n"
     ]
    }
   ],
   "source": [
    "chatbot(user_input)"
   ]
  }
 ],
 "metadata": {
  "kernelspec": {
   "display_name": "aienv",
   "language": "python",
   "name": "python3"
  },
  "language_info": {
   "codemirror_mode": {
    "name": "ipython",
    "version": 3
   },
   "file_extension": ".py",
   "mimetype": "text/x-python",
   "name": "python",
   "nbconvert_exporter": "python",
   "pygments_lexer": "ipython3",
   "version": "3.10.4"
  }
 },
 "nbformat": 4,
 "nbformat_minor": 5
}
